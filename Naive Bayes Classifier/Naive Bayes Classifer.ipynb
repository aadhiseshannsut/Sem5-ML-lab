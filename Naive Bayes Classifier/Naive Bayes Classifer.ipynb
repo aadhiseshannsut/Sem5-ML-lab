{
 "cells": [
  {
   "cell_type": "markdown",
   "id": "15297780-c069-4829-b49d-28e3c93bc876",
   "metadata": {},
   "source": [
    "# Naive Bayes Classifier - Iris Dataset\n",
    "[Source]\n",
    "***"
   ]
  },
  {
   "cell_type": "code",
   "execution_count": 1,
   "id": "e579ce49-8cae-4122-b1e8-506c750bd521",
   "metadata": {},
   "outputs": [],
   "source": [
    "import numpy as np\n",
    "from collections import defaultdict\n",
    "import matplotlib.pyplot as plt\n",
    "%matplotlib inline\n",
    "from sklearn.datasets import load_iris\n",
    "from sklearn.model_selection import train_test_split"
   ]
  },
  {
   "cell_type": "markdown",
   "id": "996340bc-78e9-493b-9a60-3524934b99c5",
   "metadata": {},
   "source": [
    "# Loading the data"
   ]
  },
  {
   "cell_type": "code",
   "execution_count": 2,
   "id": "86aca209-7e84-4814-8735-5a72eacec4dd",
   "metadata": {},
   "outputs": [],
   "source": [
    "iris = load_iris()\n",
    "X, y = iris.data, iris.target"
   ]
  },
  {
   "cell_type": "code",
   "execution_count": 3,
   "id": "7d5a3486-38f8-4f9d-a33d-0e7ac29b45b0",
   "metadata": {},
   "outputs": [],
   "source": [
    "X_train, X_test, y_train, y_test = train_test_split(X, y, test_size=0.2, random_state=42)"
   ]
  },
  {
   "cell_type": "markdown",
   "id": "b4d40a6c-65f2-4722-858f-e3c5afaa9f0d",
   "metadata": {},
   "source": [
    "# Model"
   ]
  },
  {
   "cell_type": "code",
   "execution_count": 4,
   "id": "983d8466-2f8c-43af-9692-36a5bed096fb",
   "metadata": {},
   "outputs": [],
   "source": [
    "class NaiveBayesClassifier:\n",
    "    def __init__(self):\n",
    "        self.class_priors = {}\n",
    "        self.feature_likelihoods = defaultdict(dict)\n",
    "        self.classes = []\n",
    "    \n",
    "    def fit(self, X, y):\n",
    "        # Counting unique classes\n",
    "        self.classes = np.unique(y)\n",
    "        total_samples = len(y)\n",
    "        \n",
    "        # Prior probabilities P(y)\n",
    "        for cls in self.classes:\n",
    "            class_count = np.sum(y == cls)\n",
    "            self.class_priors[cls] = class_count / total_samples\n",
    "            \n",
    "            # Likelihood P(x|y) for each feature\n",
    "            X_class = X[y == cls]\n",
    "            for feature_index in range(X.shape[1]):\n",
    "                feature_values, feature_counts = np.unique(X_class[:, feature_index], \n",
    "                    return_counts=True)\n",
    "                likelihood = feature_counts / feature_counts.sum()\n",
    "                \n",
    "                self.feature_likelihoods[cls][feature_index] = dict(zip(feature_values,\n",
    "                 likelihood))\n",
    "    \n",
    "    def predict(self, X):\n",
    "        predictions = []\n",
    "        for sample in X:\n",
    "            class_probabilities = {}\n",
    "            for cls in self.classes:\n",
    "                class_prob = self.class_priors[cls]\n",
    "                \n",
    "                for feature_index, feature_value in enumerate(sample):\n",
    "                    if feature_value in self.feature_likelihoods[cls][feature_index]:\n",
    "                        class_prob *= self.feature_likelihoods[cls][feature_index][feature_value]\n",
    "                    else:\n",
    "                        # Smoothing factor for unseen features\n",
    "                        class_prob *= 1e-6\n",
    "                \n",
    "                class_probabilities[cls] = class_prob\n",
    "            \n",
    "            # Choose the class\n",
    "            predicted_class = max(class_probabilities, key=class_probabilities.get)\n",
    "            predictions.append(predicted_class)\n",
    "        \n",
    "        return np.array(predictions) # predictions\n",
    "    \n",
    "    def accuracy(self, y_true, y_pred):\n",
    "        return np.sum(y_true == y_pred) / len(y_true)"
   ]
  },
  {
   "cell_type": "code",
   "execution_count": 5,
   "id": "87046568-fb72-4e08-95e6-b7db78b67d30",
   "metadata": {},
   "outputs": [
    {
     "name": "stdout",
     "output_type": "stream",
     "text": [
      "CPU times: user 2.7 ms, sys: 116 μs, total: 2.82 ms\n",
      "Wall time: 2.19 ms\n"
     ]
    }
   ],
   "source": [
    "%%time\n",
    "clf = NaiveBayesClassifier()\n",
    "clf.fit(X_train, y_train)"
   ]
  },
  {
   "cell_type": "code",
   "execution_count": 6,
   "id": "92e97f4f-3c97-4091-b36e-6ff4cbe04f05",
   "metadata": {},
   "outputs": [],
   "source": [
    "y_pred = clf.predict(X_test)"
   ]
  },
  {
   "cell_type": "code",
   "execution_count": 7,
   "id": "ab0466bb-703d-48d9-8b5b-9124d8eb97f5",
   "metadata": {},
   "outputs": [
    {
     "name": "stdout",
     "output_type": "stream",
     "text": [
      "Accuracy: 0.9333\n"
     ]
    }
   ],
   "source": [
    "print(f\"Accuracy: {clf.accuracy(y_test, y_pred):.4f}\")"
   ]
  },
  {
   "cell_type": "markdown",
   "id": "9e9f82fd-914d-4aa9-8d25-d3805da3e834",
   "metadata": {},
   "source": [
    "# Summary"
   ]
  },
  {
   "cell_type": "markdown",
   "id": "efea271f-314b-4658-8316-8ab35dd80057",
   "metadata": {},
   "source": [
    "The model is able to classify different species of Irises with an accuracy score of **93.34%**."
   ]
  },
  {
   "cell_type": "markdown",
   "id": "8a23dc64-37f5-4c0a-9f22-563be83039bf",
   "metadata": {},
   "source": [
    "**End**"
   ]
  }
 ],
 "metadata": {
  "kernelspec": {
   "display_name": "Python 3 (ipykernel)",
   "language": "python",
   "name": "python3"
  },
  "language_info": {
   "codemirror_mode": {
    "name": "ipython",
    "version": 3
   },
   "file_extension": ".py",
   "mimetype": "text/x-python",
   "name": "python",
   "nbconvert_exporter": "python",
   "pygments_lexer": "ipython3",
   "version": "3.11.0rc1"
  }
 },
 "nbformat": 4,
 "nbformat_minor": 5
}
