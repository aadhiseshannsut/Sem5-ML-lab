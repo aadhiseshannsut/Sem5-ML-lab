{
 "cells": [
  {
   "cell_type": "markdown",
   "id": "3db72618-1ee0-4d12-bcd8-11fd5f454d34",
   "metadata": {},
   "source": [
    "# Simple Feed-Forward Neural Network\n",
    "[Source](https://github.com/aadhiseshannsut/Sem5-ML-lab/tree/main/Feed-Forward%20Neural%20Network)\n",
    "***"
   ]
  },
  {
   "cell_type": "markdown",
   "id": "9c8f96df-e295-41d3-94bb-5119a4b280a5",
   "metadata": {},
   "source": [
    "## Model"
   ]
  },
  {
   "cell_type": "code",
   "execution_count": 21,
   "id": "eacd50cd-c503-4ee4-89dd-3af671ac0526",
   "metadata": {},
   "outputs": [],
   "source": [
    "import numpy as np"
   ]
  },
  {
   "cell_type": "markdown",
   "id": "f7df2d2f-6141-4d46-88b5-1f31088ab519",
   "metadata": {},
   "source": [
    "**Activation Functions**"
   ]
  },
  {
   "cell_type": "code",
   "execution_count": 22,
   "id": "8c0476e5-4661-46a4-a918-d55bb9662e53",
   "metadata": {},
   "outputs": [],
   "source": [
    "def sigmoid(x):\n",
    "    return 1 / (1 + np.exp(-x))\n",
    "\n",
    "def sigmoid_derivative(x):\n",
    "    return x * (1 - x)"
   ]
  },
  {
   "cell_type": "markdown",
   "id": "1f2dfa6b-9c92-42ef-8b14-d9f3957a8f79",
   "metadata": {},
   "source": [
    "**Neurons, Weights and Biases**"
   ]
  },
  {
   "cell_type": "code",
   "execution_count": 23,
   "id": "afc8a9ff-fb7c-463d-aec3-74c0b3350223",
   "metadata": {},
   "outputs": [],
   "source": [
    "np.random.seed(42)\n",
    "\n",
    "# Number of neurons\n",
    "input_neurons = 3  # Input layer\n",
    "hidden_neurons = 4 # Number of neurons in the hidden layer\n",
    "output_neurons = 1 # Binary output\n",
    "\n",
    "W1 = np.random.rand(input_neurons, hidden_neurons) # Weights for input -> hidden\n",
    "b1 = np.random.rand(1, hidden_neurons)             # Bias for hidden layer\n",
    "W2 = np.random.rand(hidden_neurons, output_neurons) # Weights for hidden -> output\n",
    "b2 = np.random.rand(1, output_neurons)             # Bias for output layer"
   ]
  },
  {
   "cell_type": "markdown",
   "id": "06d84809-47ef-4f86-aa69-e8a98f8b9990",
   "metadata": {},
   "source": [
    "**Forward propagation function**"
   ]
  },
  {
   "cell_type": "code",
   "execution_count": 24,
   "id": "39b18a56-ac79-4e99-9f17-40ec79dae5be",
   "metadata": {},
   "outputs": [],
   "source": [
    "def forward_propagation(X):\n",
    "    # Hidden layer\n",
    "    z1 = np.dot(X, W1) + b1\n",
    "    a1 = sigmoid(z1)\n",
    "    \n",
    "    # Output layer\n",
    "    z2 = np.dot(a1, W2) + b2\n",
    "    a2 = sigmoid(z2)\n",
    "    \n",
    "    return a1, a2"
   ]
  },
  {
   "cell_type": "markdown",
   "id": "eaf1aeb9-ead7-4d6c-91c7-2baa02d5e681",
   "metadata": {},
   "source": [
    "**Backward Propagation function**"
   ]
  },
  {
   "cell_type": "code",
   "execution_count": 25,
   "id": "623f1a86-8a9d-41d0-a78f-641f952b3f2f",
   "metadata": {},
   "outputs": [],
   "source": [
    "def backward_propagation(X, y, a1, a2, learning_rate=0.1):\n",
    "    global W1, b1, W2, b2\n",
    "    \n",
    "    # Calculate the error at the output\n",
    "    output_error = y - a2\n",
    "    output_delta = output_error * sigmoid_derivative(a2)\n",
    "    \n",
    "    # Calculate the error at the hidden layer\n",
    "    hidden_error = output_delta.dot(W2.T)\n",
    "    hidden_delta = hidden_error * sigmoid_derivative(a1)\n",
    "    \n",
    "    # Update weights and biases\n",
    "    W2 += a1.T.dot(output_delta) * learning_rate\n",
    "    b2 += np.sum(output_delta, axis=0, keepdims=True) * learning_rate\n",
    "    W1 += X.T.dot(hidden_delta) * learning_rate\n",
    "    b1 += np.sum(hidden_delta, axis=0, keepdims=True) * learning_rate"
   ]
  },
  {
   "cell_type": "code",
   "execution_count": 26,
   "id": "0270de8a-26c6-473f-a468-d764de23a9cb",
   "metadata": {},
   "outputs": [],
   "source": [
    "def train(X, y, epochs=10000, learning_rate=0.1):\n",
    "    for epoch in range(epochs):\n",
    "        # Forward pass\n",
    "        a1, a2 = forward_propagation(X)\n",
    "        \n",
    "        # Backward pass\n",
    "        backward_propagation(X, y, a1, a2, learning_rate)\n",
    "        \n",
    "        # Print loss every 1000 epochs\n",
    "        if epoch % 1000 == 0:\n",
    "            loss = np.mean(np.square(y - a2))\n",
    "            print(f\"Epoch {epoch}, Loss: {loss}\")"
   ]
  },
  {
   "cell_type": "code",
   "execution_count": 27,
   "id": "ac9c0a85-c3ed-4a2e-b481-3de69cecfdd9",
   "metadata": {},
   "outputs": [],
   "source": [
    "def predict(X):\n",
    "    _, a2 = forward_propagation(X)\n",
    "    return np.round(a2)  # Round to 0 or 1"
   ]
  },
  {
   "cell_type": "markdown",
   "id": "11983b37-c2eb-4b51-9fdb-126e67025f48",
   "metadata": {},
   "source": [
    "## Example Prediction"
   ]
  },
  {
   "cell_type": "code",
   "execution_count": 32,
   "id": "176dba8a-8f67-4a85-ada6-1c3e52bead5f",
   "metadata": {},
   "outputs": [
    {
     "name": "stdout",
     "output_type": "stream",
     "text": [
      "Training...\n",
      "Epoch 0, Loss: 0.0003399105001525108\n",
      "Epoch 1000, Loss: 0.0003297492378609005\n",
      "Epoch 2000, Loss: 0.00032016413037575295\n",
      "Epoch 3000, Loss: 0.00031110801795781453\n",
      "Epoch 4000, Loss: 0.00030253872058682543\n",
      "Epoch 5000, Loss: 0.00029441840019898095\n",
      "Epoch 6000, Loss: 0.00028671301820963813\n",
      "Epoch 7000, Loss: 0.00027939187215239797\n",
      "Epoch 8000, Loss: 0.0002724271983218423\n",
      "Epoch 9000, Loss: 0.00026579382972910704\n",
      "\n",
      "Predictions:\n",
      "Actual: 0, Predicted: 0\n",
      "Actual: 1, Predicted: 1\n",
      "Actual: 1, Predicted: 1\n",
      "Actual: 0, Predicted: 0\n"
     ]
    }
   ],
   "source": [
    "X = np.array([[0, 0, 1],\n",
    "              [0, 1, 1],\n",
    "              [1, 0, 1],\n",
    "              [1, 1, 1]])\n",
    "\n",
    "y = np.array([[0], [1], [1], [0]])\n",
    "\n",
    "print(\"Training...\")\n",
    "train(X, y)\n",
    "\n",
    "print(\"\\nPredictions:\")\n",
    "predictions = predict(X)\n",
    "for [actual], [prediction] in zip(y, predictions):\n",
    "    print(f\"Actual: {actual}, Predicted: {int(prediction)}\")"
   ]
  },
  {
   "cell_type": "markdown",
   "id": "11275152-28dd-491d-b522-6073aa3f3e49",
   "metadata": {},
   "source": [
    "**End**"
   ]
  }
 ],
 "metadata": {
  "kernelspec": {
   "display_name": "Python 3 (ipykernel)",
   "language": "python",
   "name": "python3"
  },
  "language_info": {
   "codemirror_mode": {
    "name": "ipython",
    "version": 3
   },
   "file_extension": ".py",
   "mimetype": "text/x-python",
   "name": "python",
   "nbconvert_exporter": "python",
   "pygments_lexer": "ipython3",
   "version": "3.11.0rc1"
  }
 },
 "nbformat": 4,
 "nbformat_minor": 5
}
