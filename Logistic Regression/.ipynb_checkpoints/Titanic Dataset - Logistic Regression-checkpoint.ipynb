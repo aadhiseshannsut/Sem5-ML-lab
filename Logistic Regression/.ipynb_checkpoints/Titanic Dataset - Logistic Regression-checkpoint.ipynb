{
 "cells": [
  {
   "cell_type": "markdown",
   "id": "a5f4a9bb-6c5e-46a8-8ecc-5e5704e1e421",
   "metadata": {},
   "source": [
    "# Titanic: Machine Learning from Disaster - Logistic Regression\n",
    "[**Source**](https://github.com/aadhiseshannsut/Sem5-ML-lab/tree/main/Logistic%20Regression) (EDA + Hyperparameter Tuning)\n",
    "***"
   ]
  },
  {
   "cell_type": "markdown",
   "id": "643f365e-5e91-4906-ac55-cd165c520d41",
   "metadata": {},
   "source": [
    "# Problem Definition\n",
    "***"
   ]
  },
  {
   "cell_type": "markdown",
   "id": "92e17129-70b3-4547-b680-8de821ed8fa2",
   "metadata": {},
   "source": [
    "To predict whether a person was likely to survive the sinking of the Titanic, given their name, age, gender, socio-economic class, etc."
   ]
  },
  {
   "cell_type": "markdown",
   "id": "a248a15a-81ec-4235-872e-aef9c253425c",
   "metadata": {},
   "source": [
    "# Data\n",
    "***"
   ]
  },
  {
   "cell_type": "markdown",
   "id": "54e3d786-7d7c-4872-b0dc-22437e9951d4",
   "metadata": {},
   "source": [
    "**train.csv** will contain the details of a subset of the passengers on board (891 to be exact), will reveal whether they survived or not, also known as the `“ground truth”`.\n",
    "\n",
    "**test.csv** dataset contains similar information but does not disclose the “ground truth” for each passenger."
   ]
  },
  {
   "cell_type": "markdown",
   "id": "f88ee5fb-7eb2-4a24-a1dd-f15572140c2f",
   "metadata": {},
   "source": [
    "## Features"
   ]
  },
  {
   "cell_type": "markdown",
   "id": "790fc295-f978-4f32-bdec-7379d6e5e7ae",
   "metadata": {},
   "source": [
    "<table>\n",
    "<tbody>\n",
    "<tr><th><b>Variable</b></th><th><b>Definition</b></th><th><b>Key</b></th></tr>\n",
    "<tr>\n",
    "<td>survival</td>\n",
    "<td>Survival</td>\n",
    "<td>0 = No, 1 = Yes</td>\n",
    "</tr>\n",
    "<tr>\n",
    "<td>pclass</td>\n",
    "<td>Ticket class</td>\n",
    "<td>1 = 1st, 2 = 2nd, 3 = 3rd</td>\n",
    "</tr>\n",
    "<tr>\n",
    "<td>sex</td>\n",
    "<td>Sex</td>\n",
    "<td></td>\n",
    "</tr>\n",
    "<tr>\n",
    "<td>Age</td>\n",
    "<td>Age in years</td>\n",
    "<td></td>\n",
    "</tr>\n",
    "<tr>\n",
    "<td>sibsp</td>\n",
    "<td># of siblings / spouses aboard the Titanic</td>\n",
    "<td></td>\n",
    "</tr>\n",
    "<tr>\n",
    "<td>parch</td>\n",
    "<td># of parents / children aboard the Titanic</td>\n",
    "<td></td>\n",
    "</tr>\n",
    "<tr>\n",
    "<td>ticket</td>\n",
    "<td>Ticket number</td>\n",
    "<td></td>\n",
    "</tr>\n",
    "<tr>\n",
    "<td>fare</td>\n",
    "<td>Passenger fare</td>\n",
    "<td></td>\n",
    "</tr>\n",
    "<tr>\n",
    "<td>cabin</td>\n",
    "<td>Cabin number</td>\n",
    "<td></td>\n",
    "</tr>\n",
    "<tr>\n",
    "<td>embarked</td>\n",
    "<td>Port of Embarkation</td>\n",
    "<td>C = Cherbourg, Q = Queenstown, S = Southampton</td>\n",
    "</tr>\n",
    "</tbody>\n",
    "</table>"
   ]
  },
  {
   "cell_type": "markdown",
   "id": "2188dce6-23b4-49b9-ba43-b290332ef857",
   "metadata": {},
   "source": [
    "**Note**\n",
    "<p><b>pclass</b>: A proxy for socio-economic status (SES)<br> 1st = Upper<br> 2nd = Middle<br> 3rd = Lower<br><br> <b>age</b>: Age is fractional if less than 1. If the age is estimated, is it in the form of xx.5<br><br> <b>sibsp</b>: The dataset defines family relations in this way...<br> Sibling = brother, sister, stepbrother, stepsister<br> Spouse = husband, wife (mistresses and fiancés were ignored)<br><br> <b>parch</b>: The dataset defines family relations in this way...<br> Parent = mother, father<br> Child = daughter, son, stepdaughter, stepson<br> Some children travelled only with a nanny, therefore parch=0 for them.</p>"
   ]
  },
  {
   "cell_type": "markdown",
   "id": "5a7607a3-f60f-4588-9fce-76e80175fa5d",
   "metadata": {},
   "source": [
    "# Evaluation\n",
    "***"
   ]
  },
  {
   "cell_type": "markdown",
   "id": "58af4a36-1623-4fc2-8878-50e4adb7cd4a",
   "metadata": {},
   "source": [
    "`Accuracy`, `F1 score`, `Precision`, and `Recall` metrics are used to evaluate the model."
   ]
  },
  {
   "cell_type": "markdown",
   "id": "b9dbec52-4e8b-4eb0-95a2-5ab3fe511c31",
   "metadata": {},
   "source": [
    "# Importing the necessary libraries"
   ]
  },
  {
   "cell_type": "code",
   "execution_count": 1,
   "id": "700b994a-ed7a-4b86-81f4-698be931b09b",
   "metadata": {},
   "outputs": [],
   "source": [
    "# EDA\n",
    "import numpy as np\n",
    "import pandas as pd\n",
    "import matplotlib.pyplot as plt\n",
    "%matplotlib inline\n",
    "import seaborn as sns\n",
    "\n",
    "# Modelling\n",
    "from sklearn.model_selection import train_test_split\n",
    "from statsmodels.stats.outliers_influence import variance_inflation_factor\n",
    "from statsmodels.api import add_constant\n",
    "from sklearn.linear_model import LogisticRegression\n",
    "\n",
    "# Evaluation\n",
    "from sklearn.metrics import accuracy_score, f1_score, precision_score, recall_score\n",
    "from sklearn.metrics import classification_report, ConfusionMatrixDisplay, PrecisionRecallDisplay, RocCurveDisplay"
   ]
  },
  {
   "cell_type": "markdown",
   "id": "87984bb8-6b72-437f-967e-4e3b71fd1e2e",
   "metadata": {},
   "source": [
    "# Loading the data"
   ]
  },
  {
   "cell_type": "code",
   "execution_count": 2,
   "id": "be8e4637-5e0b-4f09-a05f-64527dd55728",
   "metadata": {},
   "outputs": [],
   "source": [
    "df_train = pd.read_csv('data/train.csv') # training set\n",
    "df_test = pd.read_csv('data/test.csv') # test set"
   ]
  },
  {
   "cell_type": "code",
   "execution_count": 3,
   "id": "363f939b-ca14-480a-9560-4357f5724f86",
   "metadata": {},
   "outputs": [
    {
     "name": "stdout",
     "output_type": "stream",
     "text": [
      "<class 'pandas.core.frame.DataFrame'>\n",
      "RangeIndex: 891 entries, 0 to 890\n",
      "Data columns (total 12 columns):\n",
      " #   Column       Non-Null Count  Dtype  \n",
      "---  ------       --------------  -----  \n",
      " 0   PassengerId  891 non-null    int64  \n",
      " 1   Survived     891 non-null    int64  \n",
      " 2   Pclass       891 non-null    int64  \n",
      " 3   Name         891 non-null    object \n",
      " 4   Sex          891 non-null    object \n",
      " 5   Age          714 non-null    float64\n",
      " 6   SibSp        891 non-null    int64  \n",
      " 7   Parch        891 non-null    int64  \n",
      " 8   Ticket       891 non-null    object \n",
      " 9   Fare         891 non-null    float64\n",
      " 10  Cabin        204 non-null    object \n",
      " 11  Embarked     889 non-null    object \n",
      "dtypes: float64(2), int64(5), object(5)\n",
      "memory usage: 83.7+ KB\n"
     ]
    }
   ],
   "source": [
    "df_train.info()"
   ]
  },
  {
   "cell_type": "code",
   "execution_count": 4,
   "id": "23dd7ecf-df2a-41e9-b43f-d3ad646cc161",
   "metadata": {},
   "outputs": [
    {
     "name": "stdout",
     "output_type": "stream",
     "text": [
      "<class 'pandas.core.frame.DataFrame'>\n",
      "RangeIndex: 418 entries, 0 to 417\n",
      "Data columns (total 11 columns):\n",
      " #   Column       Non-Null Count  Dtype  \n",
      "---  ------       --------------  -----  \n",
      " 0   PassengerId  418 non-null    int64  \n",
      " 1   Pclass       418 non-null    int64  \n",
      " 2   Name         418 non-null    object \n",
      " 3   Sex          418 non-null    object \n",
      " 4   Age          332 non-null    float64\n",
      " 5   SibSp        418 non-null    int64  \n",
      " 6   Parch        418 non-null    int64  \n",
      " 7   Ticket       418 non-null    object \n",
      " 8   Fare         417 non-null    float64\n",
      " 9   Cabin        91 non-null     object \n",
      " 10  Embarked     418 non-null    object \n",
      "dtypes: float64(2), int64(4), object(5)\n",
      "memory usage: 36.0+ KB\n"
     ]
    }
   ],
   "source": [
    "df_test.info()"
   ]
  },
  {
   "cell_type": "code",
   "execution_count": 5,
   "id": "762c54e7-dde2-417f-b011-02c1b4229081",
   "metadata": {},
   "outputs": [
    {
     "data": {
      "text/plain": [
       "PassengerId      0\n",
       "Survived         0\n",
       "Pclass           0\n",
       "Name             0\n",
       "Sex              0\n",
       "Age            177\n",
       "SibSp            0\n",
       "Parch            0\n",
       "Ticket           0\n",
       "Fare             0\n",
       "Cabin          687\n",
       "Embarked         2\n",
       "dtype: int64"
      ]
     },
     "execution_count": 5,
     "metadata": {},
     "output_type": "execute_result"
    }
   ],
   "source": [
    "df_train.isna().sum()"
   ]
  },
  {
   "cell_type": "code",
   "execution_count": 6,
   "id": "61403495-9f35-4c73-bf41-83e468f9253c",
   "metadata": {},
   "outputs": [
    {
     "data": {
      "text/plain": [
       "PassengerId      0\n",
       "Pclass           0\n",
       "Name             0\n",
       "Sex              0\n",
       "Age             86\n",
       "SibSp            0\n",
       "Parch            0\n",
       "Ticket           0\n",
       "Fare             1\n",
       "Cabin          327\n",
       "Embarked         0\n",
       "dtype: int64"
      ]
     },
     "execution_count": 6,
     "metadata": {},
     "output_type": "execute_result"
    }
   ],
   "source": [
    "df_test.isna().sum()"
   ]
  },
  {
   "cell_type": "markdown",
   "id": "1084a71e-d326-4055-babf-5232a10e19d7",
   "metadata": {},
   "source": [
    "# Data Preprocessing"
   ]
  },
  {
   "cell_type": "markdown",
   "id": "cd7ec3ce-e8ad-44e7-b748-15b778f18aee",
   "metadata": {},
   "source": [
    "**Droppping Attributes**"
   ]
  },
  {
   "cell_type": "code",
   "execution_count": 7,
   "id": "6d455f72-6a41-4b9e-957a-2928543fc5d1",
   "metadata": {},
   "outputs": [],
   "source": [
    "df_train.drop(['Name', 'Cabin', 'Ticket'], axis=1, inplace=True)\n",
    "df_test.drop(['Name', 'Cabin', 'Ticket'], axis=1, inplace=True)"
   ]
  },
  {
   "cell_type": "markdown",
   "id": "5b794d83-f2bf-47bf-bfb6-bf8dc281475c",
   "metadata": {},
   "source": [
    "**Filling in missing data**"
   ]
  },
  {
   "cell_type": "code",
   "execution_count": 8,
   "id": "3ccab886-8a75-42aa-83d7-80a21bdd34b1",
   "metadata": {},
   "outputs": [],
   "source": [
    "# Training set\n",
    "# Filling in missing 'Embarked' values with 'Q'\n",
    "# Filling in missing 'Age' values with Age.median()\n",
    "df_train.fillna(\n",
    "    {\n",
    "        'Embarked':'Q',\n",
    "        'Age': df_train['Age'].median()\n",
    "    }, \n",
    "    inplace=True\n",
    ")\n",
    "\n",
    "# Test set\n",
    "# Filling in missing 'Age' values with Age.median()\n",
    "# Filling in missing 'Fare' values with Fare.mean(), to preserve the number of entries\n",
    "df_test.fillna(\n",
    "    {\n",
    "        'Age': df_test['Age'].median(),\n",
    "        'Fare': df_test['Fare'].mean()\n",
    "    }, \n",
    "    inplace=True\n",
    ")"
   ]
  },
  {
   "cell_type": "markdown",
   "id": "c9928c6d-0557-4cac-a634-9ce981d78900",
   "metadata": {},
   "source": [
    "**Converting data to Categories**"
   ]
  },
  {
   "cell_type": "code",
   "execution_count": 9,
   "id": "fa9a5836-3930-45d2-a6d8-17b7db0bbb1e",
   "metadata": {},
   "outputs": [],
   "source": [
    "# Training set\n",
    "df_train['Sex'] = df_train['Sex'].astype('category')\n",
    "df_train['Embarked'] = df_train['Embarked'].astype('category')\n",
    "\n",
    "# Test Set\n",
    "df_test['Sex'] = df_test['Sex'].astype('category')\n",
    "df_test['Embarked'] = df_test['Embarked'].astype('category')"
   ]
  },
  {
   "cell_type": "markdown",
   "id": "cd110a0c-f8df-44c8-82d8-b1dd54ac9fd5",
   "metadata": {},
   "source": [
    "**One-hot Encoding**"
   ]
  },
  {
   "cell_type": "code",
   "execution_count": 10,
   "id": "c912c7ec-41e7-4ae9-a6a6-33f89fb19996",
   "metadata": {},
   "outputs": [],
   "source": [
    "df_train_encoded = pd.get_dummies(df_train, drop_first=True)\n",
    "df_test_encoded = pd.get_dummies(df_test, drop_first=True)"
   ]
  },
  {
   "cell_type": "markdown",
   "id": "5b75bbd6-04ff-484f-a46b-6d4c109f5b6a",
   "metadata": {},
   "source": [
    "# Splitting the dataset"
   ]
  },
  {
   "cell_type": "code",
   "execution_count": 11,
   "id": "f45808b7-4b38-443d-98a9-b6e78792984f",
   "metadata": {},
   "outputs": [],
   "source": [
    "# Training set\n",
    "X_train, y_train = df_train_encoded.drop('Survived', axis=1), df_train['Survived']\n",
    "X_train = X_train.apply(pd.to_numeric, errors='coerce')\n",
    "# Add intercept value\n",
    "X_train = add_constant(X_train)"
   ]
  },
  {
   "cell_type": "code",
   "execution_count": 12,
   "id": "7235939e-e390-4903-a9c5-effc7fdbfa7e",
   "metadata": {},
   "outputs": [],
   "source": [
    "# Test set\n",
    "X_test = df_test_encoded;\n",
    "X_test = X_test.apply(pd.to_numeric, errors='coerce');\n",
    "# Add intercept value\n",
    "X_test = add_constant(X_test)"
   ]
  },
  {
   "cell_type": "code",
   "execution_count": 13,
   "id": "785807dd-6964-452d-adf6-533543294406",
   "metadata": {},
   "outputs": [
    {
     "data": {
      "text/plain": [
       "const          0\n",
       "PassengerId    0\n",
       "Pclass         0\n",
       "Age            0\n",
       "SibSp          0\n",
       "Parch          0\n",
       "Fare           0\n",
       "Sex_male       0\n",
       "Embarked_Q     0\n",
       "Embarked_S     0\n",
       "dtype: int64"
      ]
     },
     "execution_count": 13,
     "metadata": {},
     "output_type": "execute_result"
    }
   ],
   "source": [
    "X_test.isna().sum()"
   ]
  },
  {
   "cell_type": "markdown",
   "id": "3b8da1e5-5c0e-42f3-9af6-f995b5eebbf6",
   "metadata": {},
   "source": [
    "# Model"
   ]
  },
  {
   "cell_type": "code",
   "execution_count": 14,
   "id": "b3f9fbd0-b422-4dcb-9525-f87f8f57d40b",
   "metadata": {},
   "outputs": [
    {
     "name": "stdout",
     "output_type": "stream",
     "text": [
      "CPU times: user 103 ms, sys: 3.65 ms, total: 107 ms\n",
      "Wall time: 106 ms\n"
     ]
    }
   ],
   "source": [
    "%%time\n",
    "clf = LogisticRegression(\n",
    "    solver='lbfgs',\n",
    "    penalty='l2',\n",
    "    C=0.6100000000000001,\n",
    "    max_iter=5000,\n",
    "    random_state=42\n",
    ")\n",
    "clf.fit(X_train, y_train);"
   ]
  },
  {
   "cell_type": "markdown",
   "id": "9015b4a2-44c0-4f48-b2ad-442b7b21c6ad",
   "metadata": {},
   "source": [
    "# Making predictions"
   ]
  },
  {
   "cell_type": "code",
   "execution_count": 15,
   "id": "0499f6e6-6341-4c9b-9780-4f34b2030804",
   "metadata": {},
   "outputs": [],
   "source": [
    "y_pred = clf.predict(X_test)"
   ]
  },
  {
   "cell_type": "code",
   "execution_count": 16,
   "id": "caeccd3a-ac83-45e1-ad50-eff373d82883",
   "metadata": {},
   "outputs": [],
   "source": [
    "# Saving as DataFrame\n",
    "data = pd.DataFrame(\n",
    "    {\n",
    "        'PassengerId': df_test['PassengerId'], \n",
    "        'Survived': y_pred\n",
    "    }\n",
    ")"
   ]
  },
  {
   "cell_type": "code",
   "execution_count": 17,
   "id": "0222eb67-87ba-4e30-bf33-57ec9d71f727",
   "metadata": {},
   "outputs": [
    {
     "data": {
      "image/png": "[encoded data removed]",
      "text/plain": [
       "<Figure size 300x500 with 1 Axes>"
      ]
     },
     "metadata": {},
     "output_type": "display_data"
    }
   ],
   "source": [
    "fig = plt.figure(figsize=(3, 5))\n",
    "sns.histplot(\n",
    "    data=data,\n",
    "    x='Survived',\n",
    "    bins=2,\n",
    "    stat='count',\n",
    "    hue='Survived',\n",
    "    palette=['#f74e48', '#8bfc77']\n",
    ");\n",
    "plt.xticks([0, 1]);\n",
    "plt.title(\"Passenger Status\");\n",
    "plt.xlabel(\"0: Deceased, 1: Survived\");\n",
    "plt.ylabel(\"Number of passengers\");"
   ]
  },
  {
   "cell_type": "markdown",
   "id": "06363728-59f9-415c-8fd4-ba252575ecee",
   "metadata": {},
   "source": [
    "# Saving the output"
   ]
  },
  {
   "cell_type": "code",
   "execution_count": 18,
   "id": "f160be1a-67fc-4e06-81c4-df4ffa7c5a60",
   "metadata": {},
   "outputs": [],
   "source": [
    "file_path = 'data/output.csv'\n",
    "data.to_csv(file_path, index=False)"
   ]
  },
  {
   "cell_type": "markdown",
   "id": "b4c1c141-96e2-410c-be5d-72272b655410",
   "metadata": {},
   "source": [
    "**End**"
   ]
  }
 ],
 "metadata": {
  "kernelspec": {
   "display_name": "Python 3 (ipykernel)",
   "language": "python",
   "name": "python3"
  },
  "language_info": {
   "codemirror_mode": {
    "name": "ipython",
    "version": 3
   },
   "file_extension": ".py",
   "mimetype": "text/x-python",
   "name": "python",
   "nbconvert_exporter": "python",
   "pygments_lexer": "ipython3",
   "version": "3.11.0rc1"
  }
 },
 "nbformat": 4,
 "nbformat_minor": 5
}
