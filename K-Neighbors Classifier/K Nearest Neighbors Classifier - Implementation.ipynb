{
 "cells": [
  {
   "cell_type": "markdown",
   "id": "d36fc731-4c85-4167-b429-de0fe166c730",
   "metadata": {},
   "source": [
    "# K Nearest Neighbors Classifier - Implementation\n",
    "Source\n",
    "***"
   ]
  },
  {
   "cell_type": "markdown",
   "id": "6b456ad2-2656-4073-9ea8-b8d45839fc7a",
   "metadata": {},
   "source": [
    "# Importing necessary libraries"
   ]
  },
  {
   "cell_type": "code",
   "execution_count": 2,
   "id": "9bfeccb5-e951-4f52-a2be-76ed5dbb53b6",
   "metadata": {},
   "outputs": [],
   "source": [
    "import numpy as np\n",
    "import pandas as pd"
   ]
  },
  {
   "cell_type": "markdown",
   "id": "0e31c7ef-6efe-42f8-ab43-bb3f9c27c177",
   "metadata": {},
   "source": [
    "# Model"
   ]
  },
  {
   "cell_type": "code",
   "execution_count": 3,
   "id": "9761fb69-263b-453d-b1b9-88626b2ec01e",
   "metadata": {},
   "outputs": [],
   "source": [
    "\n",
    "class KNeighborsClassifier:\n",
    "\tdef __init__(self, n_neighbors=5):\n",
    "\t\tself.n_neighbors = n_neighbors\n",
    "\n",
    "\t# Function to find the first k nearest neighbors from the training dataset\n",
    "\tdef get_neighbors(self, data, X):\n",
    "\t\tdistances = list()\n",
    "\n",
    "\t\tfor row in data:\n",
    "\t\t\t# finding the euclidean distance\n",
    "\t\t\tdistance = KNeighborsClassifier.euclidean_distance(X, row)\n",
    "\t\t\tdistances.append((row, distance))\n",
    "\n",
    "\t\t\t# sorting distances in ascending order\n",
    "\t\t\tdistances.sort(key=lambda tup:tup[1])\n",
    "\n",
    "\t\t# finding the first k nearest neighbors\n",
    "\t\tneighbors = list()\n",
    "\t\tfor i in range(self.n_neighbors):\n",
    "\t\t\tneighbors.append(distances[i][0])\n",
    "\n",
    "\t\treturn neighbors\n",
    "\n",
    "\t# Function to generate predictions (classify)\n",
    "\tdef predict(self, data, X_test):\n",
    "\t\tpredictions = list()\n",
    "\t\tfor X in X_test:\n",
    "\t\t\t# getting first k nearest neighbors\n",
    "\t\t\tneighbors = self.get_neighbors(data, X)\n",
    "\n",
    "\t\t\t# getting their corresponding target values\n",
    "\t\t\toutput = [neighbor[-1] for neighbor in neighbors]\n",
    "\n",
    "\t\t\t# making the prediction\n",
    "\t\t\tprediction = max(set(output), key=output.count)\n",
    "\t\t\tpredictions.append(prediction)\n",
    "\n",
    "\t\treturn predictions\n",
    "\n",
    "\t# Function to score the models predictions on accuracy\n",
    "\tdef accuracy_score(self, y_true, y_pred):\n",
    "\t\t# get the number of correct predictions\n",
    "\t\tscore = sum(y_true == y_pred)\n",
    "\n",
    "\t\treturn score/len(y_true)\n",
    "\n",
    "\t@staticmethod\n",
    "\t# Function to determine the euclidean distance between two entries\n",
    "\tdef euclidean_distance(A, B):\n",
    "\t\tdistance = 0.0\n",
    "\t\t# Skip the last column(target)\n",
    "\t\tfor i in range(len(A) - 1):\n",
    "\t\t\tdistance += ((A[i] - B[i]))**2\n",
    "\n",
    "\t\treturn np.sqrt(distance)\n"
   ]
  },
  {
   "cell_type": "markdown",
   "id": "f7fa6a84-8202-4c76-b5d1-728a6f113af6",
   "metadata": {},
   "source": [
    "# Sample output"
   ]
  },
  {
   "cell_type": "code",
   "execution_count": 4,
   "id": "fed06cca-6c51-492a-b251-9bc228e6c3a5",
   "metadata": {},
   "outputs": [
    {
     "name": "stdout",
     "output_type": "stream",
     "text": [
      "Predicted values:  [np.float64(0.0), np.float64(0.0)]\n",
      "Accuracy score:  1.0\n"
     ]
    }
   ],
   "source": [
    "dataset = np.array(\n",
    "    [\n",
    "        [2.7810836,2.550537003,0],\n",
    "        [1.465489372,2.362125076,0],\n",
    "        [3.396561688,4.400293529,0],\n",
    "        [1.38807019,1.850220317,0],\n",
    "        [3.06407232,3.005305973,0],\n",
    "        [7.627531214,2.759262235,1],\n",
    "        [5.332441248,2.088626775,1],\n",
    "        [6.922596716,1.77106367,1],\n",
    "        [8.675418651,-0.242068655,1],\n",
    "        [7.673756466,3.508563011,1]\n",
    "    ]\n",
    ")\n",
    "\n",
    "# Test set\n",
    "X_test = np.array([dataset[0], dataset[1]])\n",
    "y_test = np.array([dataset[0][-1], dataset[1][-1]])\n",
    "\n",
    "# Model\n",
    "knn = KNeighborsClassifier(n_neighbors=3)\n",
    "y_pred = knn.predict(dataset, X_test)\n",
    "\n",
    "# Predictions\n",
    "print(\"Predicted values: \", y_pred)\n",
    "\n",
    "# Accuracy score\n",
    "print(\"Accuracy score: \", knn.accuracy_score(y_test, y_pred))"
   ]
  },
  {
   "cell_type": "markdown",
   "id": "ac0dc925-3f5e-41f7-815f-5f4fd2de004b",
   "metadata": {},
   "source": [
    "**End**"
   ]
  }
 ],
 "metadata": {
  "kernelspec": {
   "display_name": "Python 3 (ipykernel)",
   "language": "python",
   "name": "python3"
  },
  "language_info": {
   "codemirror_mode": {
    "name": "ipython",
    "version": 3
   },
   "file_extension": ".py",
   "mimetype": "text/x-python",
   "name": "python",
   "nbconvert_exporter": "python",
   "pygments_lexer": "ipython3",
   "version": "3.11.0rc1"
  }
 },
 "nbformat": 4,
 "nbformat_minor": 5
}
