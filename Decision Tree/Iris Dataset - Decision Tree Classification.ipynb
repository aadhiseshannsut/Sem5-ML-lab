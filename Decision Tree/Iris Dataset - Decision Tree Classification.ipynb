{
 "cells": [
  {
   "cell_type": "markdown",
   "id": "3f89a4eb-58b3-4c22-acf8-f9ccb0ef3bdb",
   "metadata": {},
   "source": [
    "# Iris Dataset - Decision Tree (Classification)\n",
    "[Source](https://github.com/aadhiseshannsut/Sem5-ML-lab/tree/main/Decision%20Tree)\n",
    "***"
   ]
  },
  {
   "cell_type": "markdown",
   "id": "586f9218-2881-4000-9d9d-38fc8d3ba8b1",
   "metadata": {},
   "source": [
    "# Data\n",
    "***"
   ]
  },
  {
   "cell_type": "markdown",
   "id": "11fef4c3-a920-406d-b437-020085f527f1",
   "metadata": {},
   "source": [
    "## Features"
   ]
  },
  {
   "cell_type": "markdown",
   "id": "3dbe4590-706f-487e-9c35-8f907264bb89",
   "metadata": {},
   "source": [
    "1. **Sepal Length** (`sepal_length`):\n",
    "   - **Description**: The length of the sepal in centimeters.\n",
    "   - **Type**: Continuous numerical value.\n",
    "   - **Units**: Centimeters.\n",
    "\n",
    "2. **Sepal Width** (`sepal_width`):\n",
    "   - **Description**: The width of the sepal in centimeters.\n",
    "   - **Type**: Continuous numerical value.\n",
    "   - **Units**: Centimeters.\n",
    "\n",
    "3. **Petal Length** (`petal_length`):\n",
    "   - **Description**: The length of the petal in centimeters.\n",
    "   - **Type**: Continuous numerical value.\n",
    "   - **Units**: Centimeters.\n",
    "\n",
    "4. **Petal Width** (`petal_width`):\n",
    "   - **Description**: The width of the petal in centimeters.\n",
    "   - **Type**: Continuous numerical value.\n",
    "   - **Units**: Centimeters."
   ]
  },
  {
   "cell_type": "markdown",
   "id": "c9efbf47-b50c-42ca-ae30-3d2df48729a7",
   "metadata": {},
   "source": [
    "## Target (Class Label)"
   ]
  },
  {
   "cell_type": "markdown",
   "id": "1190582d-ee38-4d95-90cc-6b601463f99a",
   "metadata": {},
   "source": [
    "- **Species** (`species`):\n",
    "   - **Description**: The species of the iris flower.\n",
    "   - **Type**: Categorical.\n",
    "   - **Categories**:\n",
    "      1. *Iris-setosa*\n",
    "      2. *Iris-versicolor*\n",
    "      3. *Iris-virginica*\n"
   ]
  },
  {
   "cell_type": "markdown",
   "id": "d119b9f9-cc52-45d9-a597-88e435a0def7",
   "metadata": {},
   "source": [
    "# Evaluation Criteria\n",
    "***"
   ]
  },
  {
   "cell_type": "markdown",
   "id": "620182cd-521f-4f37-a53d-a6ed8f1247ad",
   "metadata": {},
   "source": [
    "`Accuracy Score`, `F1 Score`, `Precision Score`, and `Recall Score` were used to evaluate the model."
   ]
  },
  {
   "cell_type": "markdown",
   "id": "b241098c-bc7b-483f-ab97-5cd2d3e6df34",
   "metadata": {},
   "source": [
    "# Importing necessary libraries"
   ]
  },
  {
   "cell_type": "code",
   "execution_count": 1,
   "id": "371d3b77-4281-466c-9c6c-662d0f869028",
   "metadata": {},
   "outputs": [],
   "source": [
    "# Data\n",
    "from sklearn.datasets import load_iris\n",
    "\n",
    "# EDA\n",
    "import numpy as np\n",
    "import pandas as pd\n",
    "import matplotlib.pyplot as plt\n",
    "%matplotlib inline\n",
    "\n",
    "# Model\n",
    "from sklearn.model_selection import train_test_split\n",
    "from sklearn.tree import DecisionTreeClassifier\n",
    "\n",
    "# Evaluation\n",
    "from sklearn.model_selection import cross_val_score\n",
    "from sklearn.metrics import make_scorer, accuracy_score, f1_score, precision_score, recall_score"
   ]
  },
  {
   "cell_type": "markdown",
   "id": "bb84dbdd-b73f-44f6-9ee3-5336a869e3ff",
   "metadata": {},
   "source": [
    "# Loading the data"
   ]
  },
  {
   "cell_type": "code",
   "execution_count": 2,
   "id": "2647f2f3-5b38-40e7-94b6-ef5c8ea792bb",
   "metadata": {},
   "outputs": [],
   "source": [
    "iris_dataset = load_iris()\n",
    "df = pd.DataFrame(data=iris_dataset['data'], columns=iris_dataset['feature_names'])\n",
    "df['target'] = iris_dataset['target']"
   ]
  },
  {
   "cell_type": "code",
   "execution_count": 3,
   "id": "7cad4f8d-c84e-462f-85fd-651d7e999814",
   "metadata": {},
   "outputs": [
    {
     "data": {
      "text/html": [
       "<div>\n",
       "<style scoped>\n",
       "    .dataframe tbody tr th:only-of-type {\n",
       "        vertical-align: middle;\n",
       "    }\n",
       "\n",
       "    .dataframe tbody tr th {\n",
       "        vertical-align: top;\n",
       "    }\n",
       "\n",
       "    .dataframe thead th {\n",
       "        text-align: right;\n",
       "    }\n",
       "</style>\n",
       "<table border=\"1\" class=\"dataframe\">\n",
       "  <thead>\n",
       "    <tr style=\"text-align: right;\">\n",
       "      <th></th>\n",
       "      <th>0</th>\n",
       "      <th>1</th>\n",
       "      <th>2</th>\n",
       "      <th>3</th>\n",
       "      <th>4</th>\n",
       "      <th>5</th>\n",
       "      <th>6</th>\n",
       "      <th>7</th>\n",
       "      <th>8</th>\n",
       "      <th>9</th>\n",
       "      <th>...</th>\n",
       "      <th>140</th>\n",
       "      <th>141</th>\n",
       "      <th>142</th>\n",
       "      <th>143</th>\n",
       "      <th>144</th>\n",
       "      <th>145</th>\n",
       "      <th>146</th>\n",
       "      <th>147</th>\n",
       "      <th>148</th>\n",
       "      <th>149</th>\n",
       "    </tr>\n",
       "  </thead>\n",
       "  <tbody>\n",
       "    <tr>\n",
       "      <th>sepal length (cm)</th>\n",
       "      <td>5.1</td>\n",
       "      <td>4.9</td>\n",
       "      <td>4.7</td>\n",
       "      <td>4.6</td>\n",
       "      <td>5.0</td>\n",
       "      <td>5.4</td>\n",
       "      <td>4.6</td>\n",
       "      <td>5.0</td>\n",
       "      <td>4.4</td>\n",
       "      <td>4.9</td>\n",
       "      <td>...</td>\n",
       "      <td>6.7</td>\n",
       "      <td>6.9</td>\n",
       "      <td>5.8</td>\n",
       "      <td>6.8</td>\n",
       "      <td>6.7</td>\n",
       "      <td>6.7</td>\n",
       "      <td>6.3</td>\n",
       "      <td>6.5</td>\n",
       "      <td>6.2</td>\n",
       "      <td>5.9</td>\n",
       "    </tr>\n",
       "    <tr>\n",
       "      <th>sepal width (cm)</th>\n",
       "      <td>3.5</td>\n",
       "      <td>3.0</td>\n",
       "      <td>3.2</td>\n",
       "      <td>3.1</td>\n",
       "      <td>3.6</td>\n",
       "      <td>3.9</td>\n",
       "      <td>3.4</td>\n",
       "      <td>3.4</td>\n",
       "      <td>2.9</td>\n",
       "      <td>3.1</td>\n",
       "      <td>...</td>\n",
       "      <td>3.1</td>\n",
       "      <td>3.1</td>\n",
       "      <td>2.7</td>\n",
       "      <td>3.2</td>\n",
       "      <td>3.3</td>\n",
       "      <td>3.0</td>\n",
       "      <td>2.5</td>\n",
       "      <td>3.0</td>\n",
       "      <td>3.4</td>\n",
       "      <td>3.0</td>\n",
       "    </tr>\n",
       "    <tr>\n",
       "      <th>petal length (cm)</th>\n",
       "      <td>1.4</td>\n",
       "      <td>1.4</td>\n",
       "      <td>1.3</td>\n",
       "      <td>1.5</td>\n",
       "      <td>1.4</td>\n",
       "      <td>1.7</td>\n",
       "      <td>1.4</td>\n",
       "      <td>1.5</td>\n",
       "      <td>1.4</td>\n",
       "      <td>1.5</td>\n",
       "      <td>...</td>\n",
       "      <td>5.6</td>\n",
       "      <td>5.1</td>\n",
       "      <td>5.1</td>\n",
       "      <td>5.9</td>\n",
       "      <td>5.7</td>\n",
       "      <td>5.2</td>\n",
       "      <td>5.0</td>\n",
       "      <td>5.2</td>\n",
       "      <td>5.4</td>\n",
       "      <td>5.1</td>\n",
       "    </tr>\n",
       "    <tr>\n",
       "      <th>petal width (cm)</th>\n",
       "      <td>0.2</td>\n",
       "      <td>0.2</td>\n",
       "      <td>0.2</td>\n",
       "      <td>0.2</td>\n",
       "      <td>0.2</td>\n",
       "      <td>0.4</td>\n",
       "      <td>0.3</td>\n",
       "      <td>0.2</td>\n",
       "      <td>0.2</td>\n",
       "      <td>0.1</td>\n",
       "      <td>...</td>\n",
       "      <td>2.4</td>\n",
       "      <td>2.3</td>\n",
       "      <td>1.9</td>\n",
       "      <td>2.3</td>\n",
       "      <td>2.5</td>\n",
       "      <td>2.3</td>\n",
       "      <td>1.9</td>\n",
       "      <td>2.0</td>\n",
       "      <td>2.3</td>\n",
       "      <td>1.8</td>\n",
       "    </tr>\n",
       "    <tr>\n",
       "      <th>target</th>\n",
       "      <td>0.0</td>\n",
       "      <td>0.0</td>\n",
       "      <td>0.0</td>\n",
       "      <td>0.0</td>\n",
       "      <td>0.0</td>\n",
       "      <td>0.0</td>\n",
       "      <td>0.0</td>\n",
       "      <td>0.0</td>\n",
       "      <td>0.0</td>\n",
       "      <td>0.0</td>\n",
       "      <td>...</td>\n",
       "      <td>2.0</td>\n",
       "      <td>2.0</td>\n",
       "      <td>2.0</td>\n",
       "      <td>2.0</td>\n",
       "      <td>2.0</td>\n",
       "      <td>2.0</td>\n",
       "      <td>2.0</td>\n",
       "      <td>2.0</td>\n",
       "      <td>2.0</td>\n",
       "      <td>2.0</td>\n",
       "    </tr>\n",
       "  </tbody>\n",
       "</table>\n",
       "<p>5 rows × 150 columns</p>\n",
       "</div>"
      ],
      "text/plain": [
       "                   0    1    2    3    4    5    6    7    8    9    ...  140  \\\n",
       "sepal length (cm)  5.1  4.9  4.7  4.6  5.0  5.4  4.6  5.0  4.4  4.9  ...  6.7   \n",
       "sepal width (cm)   3.5  3.0  3.2  3.1  3.6  3.9  3.4  3.4  2.9  3.1  ...  3.1   \n",
       "petal length (cm)  1.4  1.4  1.3  1.5  1.4  1.7  1.4  1.5  1.4  1.5  ...  5.6   \n",
       "petal width (cm)   0.2  0.2  0.2  0.2  0.2  0.4  0.3  0.2  0.2  0.1  ...  2.4   \n",
       "target             0.0  0.0  0.0  0.0  0.0  0.0  0.0  0.0  0.0  0.0  ...  2.0   \n",
       "\n",
       "                   141  142  143  144  145  146  147  148  149  \n",
       "sepal length (cm)  6.9  5.8  6.8  6.7  6.7  6.3  6.5  6.2  5.9  \n",
       "sepal width (cm)   3.1  2.7  3.2  3.3  3.0  2.5  3.0  3.4  3.0  \n",
       "petal length (cm)  5.1  5.1  5.9  5.7  5.2  5.0  5.2  5.4  5.1  \n",
       "petal width (cm)   2.3  1.9  2.3  2.5  2.3  1.9  2.0  2.3  1.8  \n",
       "target             2.0  2.0  2.0  2.0  2.0  2.0  2.0  2.0  2.0  \n",
       "\n",
       "[5 rows x 150 columns]"
      ]
     },
     "execution_count": 3,
     "metadata": {},
     "output_type": "execute_result"
    }
   ],
   "source": [
    "df.T"
   ]
  },
  {
   "cell_type": "code",
   "execution_count": 4,
   "id": "83dc0add-10f5-4f1e-a72c-645387a45732",
   "metadata": {},
   "outputs": [
    {
     "data": {
      "text/html": [
       "<div>\n",
       "<style scoped>\n",
       "    .dataframe tbody tr th:only-of-type {\n",
       "        vertical-align: middle;\n",
       "    }\n",
       "\n",
       "    .dataframe tbody tr th {\n",
       "        vertical-align: top;\n",
       "    }\n",
       "\n",
       "    .dataframe thead th {\n",
       "        text-align: right;\n",
       "    }\n",
       "</style>\n",
       "<table border=\"1\" class=\"dataframe\">\n",
       "  <thead>\n",
       "    <tr style=\"text-align: right;\">\n",
       "      <th></th>\n",
       "      <th>sepal length (cm)</th>\n",
       "      <th>sepal width (cm)</th>\n",
       "      <th>petal length (cm)</th>\n",
       "      <th>petal width (cm)</th>\n",
       "      <th>target</th>\n",
       "    </tr>\n",
       "  </thead>\n",
       "  <tbody>\n",
       "    <tr>\n",
       "      <th>count</th>\n",
       "      <td>150.000000</td>\n",
       "      <td>150.000000</td>\n",
       "      <td>150.000000</td>\n",
       "      <td>150.000000</td>\n",
       "      <td>150.000000</td>\n",
       "    </tr>\n",
       "    <tr>\n",
       "      <th>mean</th>\n",
       "      <td>5.843333</td>\n",
       "      <td>3.057333</td>\n",
       "      <td>3.758000</td>\n",
       "      <td>1.199333</td>\n",
       "      <td>1.000000</td>\n",
       "    </tr>\n",
       "    <tr>\n",
       "      <th>std</th>\n",
       "      <td>0.828066</td>\n",
       "      <td>0.435866</td>\n",
       "      <td>1.765298</td>\n",
       "      <td>0.762238</td>\n",
       "      <td>0.819232</td>\n",
       "    </tr>\n",
       "    <tr>\n",
       "      <th>min</th>\n",
       "      <td>4.300000</td>\n",
       "      <td>2.000000</td>\n",
       "      <td>1.000000</td>\n",
       "      <td>0.100000</td>\n",
       "      <td>0.000000</td>\n",
       "    </tr>\n",
       "    <tr>\n",
       "      <th>25%</th>\n",
       "      <td>5.100000</td>\n",
       "      <td>2.800000</td>\n",
       "      <td>1.600000</td>\n",
       "      <td>0.300000</td>\n",
       "      <td>0.000000</td>\n",
       "    </tr>\n",
       "    <tr>\n",
       "      <th>50%</th>\n",
       "      <td>5.800000</td>\n",
       "      <td>3.000000</td>\n",
       "      <td>4.350000</td>\n",
       "      <td>1.300000</td>\n",
       "      <td>1.000000</td>\n",
       "    </tr>\n",
       "    <tr>\n",
       "      <th>75%</th>\n",
       "      <td>6.400000</td>\n",
       "      <td>3.300000</td>\n",
       "      <td>5.100000</td>\n",
       "      <td>1.800000</td>\n",
       "      <td>2.000000</td>\n",
       "    </tr>\n",
       "    <tr>\n",
       "      <th>max</th>\n",
       "      <td>7.900000</td>\n",
       "      <td>4.400000</td>\n",
       "      <td>6.900000</td>\n",
       "      <td>2.500000</td>\n",
       "      <td>2.000000</td>\n",
       "    </tr>\n",
       "  </tbody>\n",
       "</table>\n",
       "</div>"
      ],
      "text/plain": [
       "       sepal length (cm)  sepal width (cm)  petal length (cm)  \\\n",
       "count         150.000000        150.000000         150.000000   \n",
       "mean            5.843333          3.057333           3.758000   \n",
       "std             0.828066          0.435866           1.765298   \n",
       "min             4.300000          2.000000           1.000000   \n",
       "25%             5.100000          2.800000           1.600000   \n",
       "50%             5.800000          3.000000           4.350000   \n",
       "75%             6.400000          3.300000           5.100000   \n",
       "max             7.900000          4.400000           6.900000   \n",
       "\n",
       "       petal width (cm)      target  \n",
       "count        150.000000  150.000000  \n",
       "mean           1.199333    1.000000  \n",
       "std            0.762238    0.819232  \n",
       "min            0.100000    0.000000  \n",
       "25%            0.300000    0.000000  \n",
       "50%            1.300000    1.000000  \n",
       "75%            1.800000    2.000000  \n",
       "max            2.500000    2.000000  "
      ]
     },
     "execution_count": 4,
     "metadata": {},
     "output_type": "execute_result"
    }
   ],
   "source": [
    "df.describe()"
   ]
  },
  {
   "cell_type": "code",
   "execution_count": 5,
   "id": "6a55c629-39cb-49a6-933e-d79dc6e697c5",
   "metadata": {},
   "outputs": [
    {
     "name": "stdout",
     "output_type": "stream",
     "text": [
      "<class 'pandas.core.frame.DataFrame'>\n",
      "RangeIndex: 150 entries, 0 to 149\n",
      "Data columns (total 5 columns):\n",
      " #   Column             Non-Null Count  Dtype  \n",
      "---  ------             --------------  -----  \n",
      " 0   sepal length (cm)  150 non-null    float64\n",
      " 1   sepal width (cm)   150 non-null    float64\n",
      " 2   petal length (cm)  150 non-null    float64\n",
      " 3   petal width (cm)   150 non-null    float64\n",
      " 4   target             150 non-null    int64  \n",
      "dtypes: float64(4), int64(1)\n",
      "memory usage: 6.0 KB\n"
     ]
    }
   ],
   "source": [
    "df.info()"
   ]
  },
  {
   "cell_type": "markdown",
   "id": "1e505eef-f3ef-4c9b-b9ed-a6e767e8ef4f",
   "metadata": {},
   "source": [
    "**Observations:**\n",
    "* There is no missing data.\n",
    "* All data is numeric."
   ]
  },
  {
   "cell_type": "markdown",
   "id": "56e84bc0-3b1c-4a1e-8d39-9ce39c8c20dc",
   "metadata": {},
   "source": [
    "# Splitting the data"
   ]
  },
  {
   "cell_type": "code",
   "execution_count": 6,
   "id": "e1d620b5-0222-4d9a-8faf-5e35f2e293cb",
   "metadata": {},
   "outputs": [],
   "source": [
    "X, y = df.drop('target', axis=1), df['target']\n",
    "X_train, X_test, y_train, y_test = train_test_split(X, y, random_state=42)"
   ]
  },
  {
   "cell_type": "markdown",
   "id": "21068f19-1547-421f-b357-ea68dc116048",
   "metadata": {},
   "source": [
    "# Model"
   ]
  },
  {
   "cell_type": "code",
   "execution_count": 7,
   "id": "cd9b2da0-9d35-4824-a0f6-40aaa1773974",
   "metadata": {},
   "outputs": [
    {
     "name": "stdout",
     "output_type": "stream",
     "text": [
      "Test Score = 1.0, Training Score = 1.0\n"
     ]
    }
   ],
   "source": [
    "clf = DecisionTreeClassifier(random_state=42)\n",
    "clf.fit(X_train, y_train);\n",
    "print(f\"Test Score = {clf.score(X_test, y_test)}, Training Score = {clf.score(X_train, y_train)}\")"
   ]
  },
  {
   "cell_type": "markdown",
   "id": "9037c3e3-f9df-4474-9c2a-3429ec683b6d",
   "metadata": {},
   "source": [
    "**Observations:**\n",
    "The model is overfitting the training data."
   ]
  },
  {
   "cell_type": "markdown",
   "id": "e6827da5-b7cc-4392-8aa4-7faaed530c17",
   "metadata": {},
   "source": [
    "# Hyperparameter Tuning"
   ]
  },
  {
   "cell_type": "markdown",
   "id": "c43a0e1c-0510-4a37-a650-9ebc482be07e",
   "metadata": {},
   "source": [
    "**We will only be adjusting the `max_depth` parameter to make the model less complex.**"
   ]
  },
  {
   "cell_type": "code",
   "execution_count": 8,
   "id": "8bcada51-5e6b-482b-abe5-bc5e8077107e",
   "metadata": {},
   "outputs": [
    {
     "name": "stdout",
     "output_type": "stream",
     "text": [
      "Test Score = 0.9736842105263158, Training Score = 0.9464285714285714\n"
     ]
    }
   ],
   "source": [
    "clf = DecisionTreeClassifier(max_depth=2, random_state=42)\n",
    "clf.fit(X_train, y_train);\n",
    "print(f\"Test Score = {clf.score(X_test, y_test)}, Training Score = {clf.score(X_train, y_train)}\")"
   ]
  },
  {
   "cell_type": "markdown",
   "id": "066ad8ba-e819-4093-9fd7-67f55148a914",
   "metadata": {},
   "source": [
    "**Observations:**\n",
    "* The model is now able to generalize better."
   ]
  },
  {
   "cell_type": "markdown",
   "id": "aa8dcfd4-c5c7-4c00-92f6-7969aa671d07",
   "metadata": {},
   "source": [
    "# Evaluation"
   ]
  },
  {
   "cell_type": "code",
   "execution_count": 9,
   "id": "a90cff9e-d902-4ea3-89c4-8353c3ceed0c",
   "metadata": {},
   "outputs": [
    {
     "name": "stdout",
     "output_type": "stream",
     "text": [
      "CPU times: user 74.9 ms, sys: 164 ms, total: 239 ms\n",
      "Wall time: 3.25 s\n"
     ]
    }
   ],
   "source": [
    "%%time\n",
    "np.random.seed(42)\n",
    "clf_accuracy = cross_val_score(\n",
    "    clf,\n",
    "    X,\n",
    "    y,\n",
    "    scoring='accuracy',\n",
    "    cv=3,\n",
    "    n_jobs=-1\n",
    ")\n",
    "\n",
    "clf_f1_score = cross_val_score(\n",
    "    clf,\n",
    "    X,\n",
    "    y,\n",
    "    scoring=make_scorer(f1_score, average='macro'),\n",
    "    cv=3,\n",
    "    n_jobs=-1\n",
    ")\n",
    "\n",
    "clf_precision_score = cross_val_score(\n",
    "    clf,\n",
    "    X,\n",
    "    y,\n",
    "    scoring=make_scorer(precision_score, average='macro'),\n",
    "    cv=3,\n",
    "    n_jobs=-1\n",
    ")\n",
    "\n",
    "clf_recall_score = cross_val_score(\n",
    "    clf,\n",
    "    X,\n",
    "    y,\n",
    "    scoring=make_scorer(recall_score, average='macro'),\n",
    "    cv=3,\n",
    "    n_jobs=-1\n",
    ")"
   ]
  },
  {
   "cell_type": "code",
   "execution_count": 10,
   "id": "2d15ae4e-5f48-463c-86e6-46c99781eee8",
   "metadata": {},
   "outputs": [],
   "source": [
    "scores = {\n",
    "    \"Accuracy\": clf_accuracy,\n",
    "    \"F1 Score\": clf_f1_score,\n",
    "    \"Precision\": clf_precision_score,\n",
    "    \"Recall\": clf_recall_score\n",
    "}"
   ]
  },
  {
   "cell_type": "code",
   "execution_count": 11,
   "id": "9944bf88-ff7c-4fe4-a234-6513efd39174",
   "metadata": {},
   "outputs": [],
   "source": [
    "scores = pd.DataFrame(scores)"
   ]
  },
  {
   "cell_type": "code",
   "execution_count": 12,
   "id": "67c5a2ca-98e3-48dc-9c61-75f584e5aa8c",
   "metadata": {},
   "outputs": [
    {
     "data": {
      "text/html": [
       "<div>\n",
       "<style scoped>\n",
       "    .dataframe tbody tr th:only-of-type {\n",
       "        vertical-align: middle;\n",
       "    }\n",
       "\n",
       "    .dataframe tbody tr th {\n",
       "        vertical-align: top;\n",
       "    }\n",
       "\n",
       "    .dataframe thead th {\n",
       "        text-align: right;\n",
       "    }\n",
       "</style>\n",
       "<table border=\"1\" class=\"dataframe\">\n",
       "  <thead>\n",
       "    <tr style=\"text-align: right;\">\n",
       "      <th></th>\n",
       "      <th>Accuracy</th>\n",
       "      <th>F1 Score</th>\n",
       "      <th>Precision</th>\n",
       "      <th>Recall</th>\n",
       "    </tr>\n",
       "  </thead>\n",
       "  <tbody>\n",
       "    <tr>\n",
       "      <th>0</th>\n",
       "      <td>0.96</td>\n",
       "      <td>0.959559</td>\n",
       "      <td>0.959559</td>\n",
       "      <td>0.959559</td>\n",
       "    </tr>\n",
       "    <tr>\n",
       "      <th>1</th>\n",
       "      <td>0.92</td>\n",
       "      <td>0.919118</td>\n",
       "      <td>0.919118</td>\n",
       "      <td>0.919118</td>\n",
       "    </tr>\n",
       "    <tr>\n",
       "      <th>2</th>\n",
       "      <td>0.92</td>\n",
       "      <td>0.921569</td>\n",
       "      <td>0.921569</td>\n",
       "      <td>0.921569</td>\n",
       "    </tr>\n",
       "  </tbody>\n",
       "</table>\n",
       "</div>"
      ],
      "text/plain": [
       "   Accuracy  F1 Score  Precision    Recall\n",
       "0      0.96  0.959559   0.959559  0.959559\n",
       "1      0.92  0.919118   0.919118  0.919118\n",
       "2      0.92  0.921569   0.921569  0.921569"
      ]
     },
     "execution_count": 12,
     "metadata": {},
     "output_type": "execute_result"
    }
   ],
   "source": [
    "scores"
   ]
  },
  {
   "cell_type": "markdown",
   "id": "55499600-8705-4d3e-b82c-0ff94c5264a2",
   "metadata": {},
   "source": [
    "# Summary\n",
    "***"
   ]
  },
  {
   "cell_type": "markdown",
   "id": "187e21a8-d7dc-4929-8a19-5ef5b41438ac",
   "metadata": {},
   "source": [
    "The Decision Tree Classifier demonstrates good performance when predicting classes from the Iris Dataset."
   ]
  },
  {
   "cell_type": "markdown",
   "id": "ad2099f1-2fd8-4a12-bd77-c4e9dcbbaddd",
   "metadata": {
    "editable": true,
    "slideshow": {
     "slide_type": ""
    },
    "tags": []
   },
   "source": [
    "**End**"
   ]
  }
 ],
 "metadata": {
  "kernelspec": {
   "display_name": "Python 3 (ipykernel)",
   "language": "python",
   "name": "python3"
  },
  "language_info": {
   "codemirror_mode": {
    "name": "ipython",
    "version": 3
   },
   "file_extension": ".py",
   "mimetype": "text/x-python",
   "name": "python",
   "nbconvert_exporter": "python",
   "pygments_lexer": "ipython3",
   "version": "3.11.0rc1"
  }
 },
 "nbformat": 4,
 "nbformat_minor": 5
}
