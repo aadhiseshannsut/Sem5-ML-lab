{
 "cells": [
  {
   "cell_type": "markdown",
   "id": "3f89a4eb-58b3-4c22-acf8-f9ccb0ef3bdb",
   "metadata": {},
   "source": [
    "# Boston Housing Dataset - Decision Tree (Regression)\n",
    "Source\n",
    "***"
   ]
  },
  {
   "cell_type": "markdown",
   "id": "2b8ef765-03f6-4e0d-a1c5-b36993fde2da",
   "metadata": {},
   "source": [
    "# Data\n",
    "***"
   ]
  },
  {
   "cell_type": "markdown",
   "id": "3de048dc-584c-4432-9c9f-e9020bf01e8f",
   "metadata": {},
   "source": [
    "## Features"
   ]
  },
  {
   "cell_type": "markdown",
   "id": "8239e390-5b26-455a-85e4-c511648c1424",
   "metadata": {},
   "source": [
    "1. **CRIM**:\n",
    "   - **Description**: Per capita crime rate by town.\n",
    "   - **Type**: Continuous numerical value.\n",
    "\n",
    "2. **ZN**:\n",
    "   - **Description**: Proportion of residential land zoned for lots over 25,000 sq. ft.\n",
    "   - **Type**: Continuous numerical value.\n",
    "   \n",
    "3. **INDUS**:\n",
    "   - **Description**: Proportion of non-retail business acres per town.\n",
    "   - **Type**: Continuous numerical value.\n",
    "   \n",
    "4. **CHAS**:\n",
    "   - **Description**: Charles River dummy variable (1 if tract bounds river, 0 otherwise).\n",
    "   - **Type**: Categorical (binary).\n",
    "\n",
    "5. **NOX**:\n",
    "   - **Description**: Nitric oxide concentration (parts per 10 million).\n",
    "   - **Type**: Continuous numerical value.\n",
    "\n",
    "6. **RM**:\n",
    "   - **Description**: Average number of rooms per dwelling.\n",
    "   - **Type**: Continuous numerical value.\n",
    "\n",
    "7. **AGE**:\n",
    "   - **Description**: Proportion of owner-occupied units built prior to 1940.\n",
    "   - **Type**: Continuous numerical value.\n",
    "   \n",
    "8. **DIS**:\n",
    "   - **Description**: Weighted distances to five Boston employment centers.\n",
    "   - **Type**: Continuous numerical value.\n",
    "\n",
    "9. **RAD**:\n",
    "   - **Description**: Index of accessibility to radial highways.\n",
    "   - **Type**: Discrete numerical value (integer).\n",
    "\n",
    "10. **TAX**:\n",
    "    - **Description**: Full-value property tax rate per $10,000.\n",
    "    - **Type**: Continuous numerical value.\n",
    "\n",
    "11. **PTRATIO**:\n",
    "    - **Description**: Pupil-teacher ratio by town.\n",
    "    - **Type**: Continuous numerical value.\n",
    "\n",
    "12. **LSTAT**:\n",
    "    - **Description**: Percentage of lower status of the population.\n",
    "    - **Type**: Continuous numerical value."
   ]
  },
  {
   "cell_type": "markdown",
   "id": "8558c684-0e15-42bf-9d89-a07309191f43",
   "metadata": {},
   "source": [
    "## Target (Label)"
   ]
  },
  {
   "cell_type": "markdown",
   "id": "56253bb5-a08e-48ed-b841-63ee56363ebb",
   "metadata": {},
   "source": [
    "- **MEDV**:\n",
    "   - **Description**: Median value of owner-occupied homes in $1000s.\n",
    "   - **Type**: Continuous numerical value."
   ]
  },
  {
   "cell_type": "markdown",
   "id": "d119b9f9-cc52-45d9-a597-88e435a0def7",
   "metadata": {},
   "source": [
    "# Evaluation Criteria\n",
    "***"
   ]
  },
  {
   "cell_type": "markdown",
   "id": "620182cd-521f-4f37-a53d-a6ed8f1247ad",
   "metadata": {},
   "source": [
    "`MSE`, `RMSE`, `MAE`, and `MAPE` were used to evaluate the model."
   ]
  },
  {
   "cell_type": "markdown",
   "id": "b241098c-bc7b-483f-ab97-5cd2d3e6df34",
   "metadata": {},
   "source": [
    "# Importing necessary libraries"
   ]
  },
  {
   "cell_type": "code",
   "execution_count": 1,
   "id": "371d3b77-4281-466c-9c6c-662d0f869028",
   "metadata": {},
   "outputs": [],
   "source": [
    "# EDA\n",
    "import numpy as np\n",
    "import pandas as pd\n",
    "import matplotlib.pyplot as plt\n",
    "%matplotlib inline\n",
    "\n",
    "# Model\n",
    "from sklearn.model_selection import train_test_split\n",
    "from sklearn.tree import DecisionTreeRegressor\n",
    "\n",
    "# Evaluation\n",
    "from sklearn.model_selection import cross_val_score, RandomizedSearchCV, GridSearchCV\n",
    "from sklearn.metrics import make_scorer, mean_squared_error, root_mean_squared_error, mean_absolute_error, mean_absolute_percentage_error"
   ]
  },
  {
   "cell_type": "markdown",
   "id": "bb84dbdd-b73f-44f6-9ee3-5336a869e3ff",
   "metadata": {},
   "source": [
    "# Loading the data"
   ]
  },
  {
   "cell_type": "code",
   "execution_count": 2,
   "id": "2647f2f3-5b38-40e7-94b6-ef5c8ea792bb",
   "metadata": {
    "editable": true,
    "slideshow": {
     "slide_type": ""
    },
    "tags": []
   },
   "outputs": [],
   "source": [
    "df = pd.read_csv('./data/boston_house_prices.csv')"
   ]
  },
  {
   "cell_type": "markdown",
   "id": "1e505eef-f3ef-4c9b-b9ed-a6e767e8ef4f",
   "metadata": {},
   "source": [
    "**Note:**\n",
    "* There is no missing data.\n",
    "* All data is numeric."
   ]
  },
  {
   "cell_type": "markdown",
   "id": "56e84bc0-3b1c-4a1e-8d39-9ce39c8c20dc",
   "metadata": {},
   "source": [
    "# Splitting the data"
   ]
  },
  {
   "cell_type": "code",
   "execution_count": 3,
   "id": "e1d620b5-0222-4d9a-8faf-5e35f2e293cb",
   "metadata": {},
   "outputs": [],
   "source": [
    "X, y = df.drop('MEDV', axis=1), df['MEDV']\n",
    "X_train, X_test, y_train, y_test = train_test_split(X, y, random_state=42)"
   ]
  },
  {
   "cell_type": "markdown",
   "id": "21068f19-1547-421f-b357-ea68dc116048",
   "metadata": {},
   "source": [
    "# Model"
   ]
  },
  {
   "cell_type": "code",
   "execution_count": 4,
   "id": "cd9b2da0-9d35-4824-a0f6-40aaa1773974",
   "metadata": {
    "editable": true,
    "slideshow": {
     "slide_type": ""
    },
    "tags": []
   },
   "outputs": [
    {
     "name": "stdout",
     "output_type": "stream",
     "text": [
      "Test Score = 0.8310149080832583, Training Score = 1.0\n"
     ]
    }
   ],
   "source": [
    "reg = DecisionTreeRegressor(random_state=42)\n",
    "reg.fit(X_train, y_train);\n",
    "print(f\"Test Score = {reg.score(X_test, y_test)}, Training Score = {reg.score(X_train, y_train)}\")"
   ]
  },
  {
   "cell_type": "markdown",
   "id": "9037c3e3-f9df-4474-9c2a-3429ec683b6d",
   "metadata": {},
   "source": [
    "**Observations:**\n",
    "The model is overfitting the training data."
   ]
  },
  {
   "cell_type": "markdown",
   "id": "e6827da5-b7cc-4392-8aa4-7faaed530c17",
   "metadata": {},
   "source": [
    "# Hyperparameter Tuning"
   ]
  },
  {
   "cell_type": "markdown",
   "id": "c43a0e1c-0510-4a37-a650-9ebc482be07e",
   "metadata": {},
   "source": [
    "## RandomizedSearchCV"
   ]
  },
  {
   "cell_type": "code",
   "execution_count": 5,
   "id": "b1340c11-29aa-482f-8f3f-2f11ef9c9921",
   "metadata": {},
   "outputs": [],
   "source": [
    "params_dist = {\n",
    "    'criterion': ['squared_error', 'friedman_mse', 'absolute_error', 'poisson'],\n",
    "    'splitter': ['best', 'random'],\n",
    "    'max_depth': [None, 10, 20, 30, 40, 50],\n",
    "    'min_samples_split': [2, 5, 10],\n",
    "    'min_samples_leaf': [1, 2, 4],\n",
    "    'max_features': ['sqrt', 'log2'],\n",
    "    'max_leaf_nodes': [None, 10, 20, 30],\n",
    "    'min_impurity_decrease': [0.0, 0.01, 0.1],\n",
    "}"
   ]
  },
  {
   "cell_type": "code",
   "execution_count": 6,
   "id": "8e133929-fe8c-4080-a281-bf4ae52ee68a",
   "metadata": {},
   "outputs": [],
   "source": [
    "reg_rs = RandomizedSearchCV(\n",
    "    DecisionTreeRegressor(random_state=42), \n",
    "\tparams_dist, \n",
    "\tn_iter=4000,  \n",
    "\tn_jobs=-1, \n",
    "\trefit=True, \n",
    "\tcv=None,\n",
    "\trandom_state=42\n",
    ")"
   ]
  },
  {
   "cell_type": "code",
   "execution_count": 7,
   "id": "1d0ecd57-36e0-4767-bae3-59d28b977d74",
   "metadata": {},
   "outputs": [
    {
     "name": "stdout",
     "output_type": "stream",
     "text": [
      "CPU times: user 4.55 s, sys: 337 ms, total: 4.88 s\n",
      "Wall time: 13.6 s\n"
     ]
    }
   ],
   "source": [
    "%%time\n",
    "reg_rs.fit(X_train, y_train);"
   ]
  },
  {
   "cell_type": "code",
   "execution_count": 8,
   "id": "c5260c8d-ac05-4b9b-b127-5a0ac3198b18",
   "metadata": {},
   "outputs": [
    {
     "data": {
      "text/plain": [
       "{'splitter': 'best',\n",
       " 'min_samples_split': 10,\n",
       " 'min_samples_leaf': 2,\n",
       " 'min_impurity_decrease': 0.01,\n",
       " 'max_leaf_nodes': None,\n",
       " 'max_features': 'sqrt',\n",
       " 'max_depth': 30,\n",
       " 'criterion': 'absolute_error'}"
      ]
     },
     "execution_count": 8,
     "metadata": {},
     "output_type": "execute_result"
    }
   ],
   "source": [
    "reg_rs.best_params_"
   ]
  },
  {
   "cell_type": "markdown",
   "id": "75ff46e7-2034-48c5-9a03-b7b94926ea52",
   "metadata": {},
   "source": [
    "## GridSearchCV"
   ]
  },
  {
   "cell_type": "code",
   "execution_count": 9,
   "id": "4858115a-6c3c-4644-bd80-38801539be6c",
   "metadata": {},
   "outputs": [],
   "source": [
    "param_grid = {\n",
    "    'criterion': ['squared_error', 'friedman_mse', 'absolute_error', 'poisson'],\n",
    "    'splitter': ['best', 'random'],\n",
    "    'max_depth': [None, 30],\n",
    "    'min_samples_split': [10],\n",
    "    'min_samples_leaf': [2],\n",
    "    'max_features': ['sqrt', 'log2'],\n",
    "    'max_leaf_nodes': [None, 30],\n",
    "    'min_impurity_decrease': [0.0, 0.01, 0.1],\n",
    "}"
   ]
  },
  {
   "cell_type": "code",
   "execution_count": 10,
   "id": "6a0e45c7-fcd0-47b7-a8e0-67ea6cc63f72",
   "metadata": {},
   "outputs": [],
   "source": [
    "reg_gs = GridSearchCV(\n",
    "    DecisionTreeRegressor(random_state=42), \n",
    "    param_grid,  \n",
    "    n_jobs=-1, \n",
    "    refit=True, \n",
    "    cv=None\n",
    ")"
   ]
  },
  {
   "cell_type": "code",
   "execution_count": 11,
   "id": "2b7fd729-9c61-4ce3-864b-d7d0273fd372",
   "metadata": {},
   "outputs": [
    {
     "name": "stdout",
     "output_type": "stream",
     "text": [
      "CPU times: user 496 ms, sys: 53.3 ms, total: 550 ms\n",
      "Wall time: 773 ms\n"
     ]
    }
   ],
   "source": [
    "%%time\n",
    "reg_gs.fit(X_train, y_train);"
   ]
  },
  {
   "cell_type": "code",
   "execution_count": 12,
   "id": "c98a0b13-3e52-44aa-805b-d903d411433c",
   "metadata": {},
   "outputs": [
    {
     "data": {
      "text/plain": [
       "{'criterion': 'absolute_error',\n",
       " 'max_depth': None,\n",
       " 'max_features': 'sqrt',\n",
       " 'max_leaf_nodes': None,\n",
       " 'min_impurity_decrease': 0.01,\n",
       " 'min_samples_leaf': 2,\n",
       " 'min_samples_split': 10,\n",
       " 'splitter': 'best'}"
      ]
     },
     "execution_count": 12,
     "metadata": {},
     "output_type": "execute_result"
    }
   ],
   "source": [
    "reg_gs.best_params_"
   ]
  },
  {
   "cell_type": "markdown",
   "id": "1bb8c339-de86-4729-8229-45da4b5f764e",
   "metadata": {},
   "source": [
    "## Best Estimator"
   ]
  },
  {
   "cell_type": "code",
   "execution_count": 13,
   "id": "a45b1306-3f2c-4f03-b25d-e62b2e6f1d9c",
   "metadata": {},
   "outputs": [
    {
     "name": "stdout",
     "output_type": "stream",
     "text": [
      "Test Score = 0.6145943292938496, Training Score = 0.8814590776975002\n"
     ]
    }
   ],
   "source": [
    "reg = DecisionTreeRegressor(\n",
    "\tcriterion='absolute_error',\n",
    "\tmax_depth=None,\n",
    "\tmax_features='sqrt',\n",
    "\tmax_leaf_nodes=None,\n",
    "\tmin_impurity_decrease=0.01,\n",
    "\tmin_samples_leaf=2,\n",
    "\tmin_samples_split=10,\n",
    "\tsplitter='best',\n",
    "\trandom_state=42\n",
    ")\n",
    "reg.fit(X_train, y_train);\n",
    "print(f\"Test Score = {reg.score(X_test, y_test)}, Training Score = {reg.score(X_train, y_train)}\")"
   ]
  },
  {
   "cell_type": "markdown",
   "id": "066ad8ba-e819-4093-9fd7-67f55148a914",
   "metadata": {},
   "source": [
    "**Observations:**\n",
    "* The model is now able to generalize better."
   ]
  },
  {
   "cell_type": "markdown",
   "id": "aa8dcfd4-c5c7-4c00-92f6-7969aa671d07",
   "metadata": {
    "editable": true,
    "slideshow": {
     "slide_type": ""
    },
    "tags": []
   },
   "source": [
    "# Evaluation\n",
    "***"
   ]
  },
  {
   "cell_type": "code",
   "execution_count": 14,
   "id": "a90cff9e-d902-4ea3-89c4-8353c3ceed0c",
   "metadata": {},
   "outputs": [
    {
     "name": "stdout",
     "output_type": "stream",
     "text": [
      "CPU times: user 30.9 ms, sys: 517 μs, total: 31.4 ms\n",
      "Wall time: 105 ms\n"
     ]
    }
   ],
   "source": [
    "%%time\n",
    "np.random.seed(42)\n",
    "reg_mse = cross_val_score(\n",
    "    reg,\n",
    "    X,\n",
    "    y,\n",
    "    scoring=make_scorer(mean_squared_error),\n",
    "    cv=3,\n",
    "    n_jobs=-1\n",
    ")\n",
    "\n",
    "# RMSE score\n",
    "reg_rmse = cross_val_score(\n",
    "    reg,\n",
    "    X,\n",
    "    y,\n",
    "    scoring=make_scorer(root_mean_squared_error),\n",
    "    cv=3,\n",
    "    n_jobs=-1\n",
    ")\n",
    "\n",
    "# MAE score\n",
    "reg_mae = cross_val_score(\n",
    "    reg,\n",
    "    X,\n",
    "    y,\n",
    "    scoring=make_scorer(mean_absolute_error),\n",
    "    cv=3,\n",
    "    n_jobs=-1\n",
    ")\n",
    "\n",
    "# MAPE score\n",
    "reg_mape = cross_val_score(\n",
    "    reg,\n",
    "    X,\n",
    "    y,\n",
    "    scoring=make_scorer(mean_absolute_percentage_error),\n",
    "    cv=3,\n",
    "    n_jobs=-1\n",
    ")"
   ]
  },
  {
   "cell_type": "code",
   "execution_count": 18,
   "id": "2d15ae4e-5f48-463c-86e6-46c99781eee8",
   "metadata": {
    "editable": true,
    "slideshow": {
     "slide_type": ""
    },
    "tags": []
   },
   "outputs": [
    {
     "data": {
      "text/html": [
       "<div>\n",
       "<style scoped>\n",
       "    .dataframe tbody tr th:only-of-type {\n",
       "        vertical-align: middle;\n",
       "    }\n",
       "\n",
       "    .dataframe tbody tr th {\n",
       "        vertical-align: top;\n",
       "    }\n",
       "\n",
       "    .dataframe thead th {\n",
       "        text-align: right;\n",
       "    }\n",
       "</style>\n",
       "<table border=\"1\" class=\"dataframe\">\n",
       "  <thead>\n",
       "    <tr style=\"text-align: right;\">\n",
       "      <th></th>\n",
       "      <th>MSE</th>\n",
       "      <th>RMSE</th>\n",
       "      <th>MAE</th>\n",
       "      <th>MAPE</th>\n",
       "    </tr>\n",
       "  </thead>\n",
       "  <tbody>\n",
       "    <tr>\n",
       "      <th>0</th>\n",
       "      <td>23.918314</td>\n",
       "      <td>4.890635</td>\n",
       "      <td>3.759763</td>\n",
       "      <td>0.197041</td>\n",
       "    </tr>\n",
       "    <tr>\n",
       "      <th>1</th>\n",
       "      <td>111.056243</td>\n",
       "      <td>10.538323</td>\n",
       "      <td>7.080473</td>\n",
       "      <td>0.250893</td>\n",
       "    </tr>\n",
       "    <tr>\n",
       "      <th>2</th>\n",
       "      <td>41.965699</td>\n",
       "      <td>6.478094</td>\n",
       "      <td>4.581845</td>\n",
       "      <td>0.318049</td>\n",
       "    </tr>\n",
       "  </tbody>\n",
       "</table>\n",
       "</div>"
      ],
      "text/plain": [
       "          MSE       RMSE       MAE      MAPE\n",
       "0   23.918314   4.890635  3.759763  0.197041\n",
       "1  111.056243  10.538323  7.080473  0.250893\n",
       "2   41.965699   6.478094  4.581845  0.318049"
      ]
     },
     "execution_count": 18,
     "metadata": {},
     "output_type": "execute_result"
    }
   ],
   "source": [
    "scores = {\n",
    "    \"MSE\": reg_mse,\n",
    "    \"RMSE\": reg_rmse,\n",
    "    \"MAE\": reg_mae,\n",
    "    \"MAPE\": reg_mape\n",
    "}\n",
    "scores = pd.DataFrame(scores)\n",
    "scores"
   ]
  },
  {
   "cell_type": "markdown",
   "id": "55499600-8705-4d3e-b82c-0ff94c5264a2",
   "metadata": {},
   "source": [
    "# Summary\n",
    "***"
   ]
  },
  {
   "cell_type": "markdown",
   "id": "187e21a8-d7dc-4929-8a19-5ef5b41438ac",
   "metadata": {},
   "source": [
    "The Decision Tree Classifier demonstrates satisfactory levels of performance when applied to the Boston House Prices Dataset."
   ]
  },
  {
   "cell_type": "markdown",
   "id": "14f296ef-7c55-47b0-84aa-734ae7f8f1a5",
   "metadata": {},
   "source": [
    "**End**"
   ]
  }
 ],
 "metadata": {
  "kernelspec": {
   "display_name": "Python 3 (ipykernel)",
   "language": "python",
   "name": "python3"
  },
  "language_info": {
   "codemirror_mode": {
    "name": "ipython",
    "version": 3
   },
   "file_extension": ".py",
   "mimetype": "text/x-python",
   "name": "python",
   "nbconvert_exporter": "python",
   "pygments_lexer": "ipython3",
   "version": "3.11.0rc1"
  }
 },
 "nbformat": 4,
 "nbformat_minor": 5
}
